{
 "cells": [
  {
   "cell_type": "code",
   "execution_count": null,
   "id": "initial_id",
   "metadata": {
    "collapsed": true
   },
   "outputs": [],
   "source": [
    "import os\n",
    "import numpy as np\n",
    "from pydub import AudioSegment\n",
    "import tensorflow as tf\n",
    "from sklearn.model_selection import train_test_split\n",
    "from sklearn.preprocessing import LabelEncoder"
   ]
  },
  {
   "metadata": {},
   "cell_type": "code",
   "outputs": [],
   "execution_count": null,
   "source": [
    "# === 1. Параметри ===\n",
    "DATASET_PATH = \"./dataset/genres_original\"  # Шлях до папки з аудіофайлами\n",
    "SAMPLE_RATE = 22050  # Частота дискретизації\n",
    "DURATION = 30  # Тривалість аудіо в секундах\n",
    "MFCC_FEATURES = 40  # Кількість MFCC коефіцієнтів"
   ],
   "id": "4be143ec39f6272c"
  },
  {
   "metadata": {},
   "cell_type": "code",
   "outputs": [],
   "execution_count": null,
   "source": [
    "# === 2. Функція для витягування фіч ===\n",
    "def extract_features(file_path):\n",
    "    try:\n",
    "        audio = AudioSegment.from_file(file_path)\n",
    "        samples = np.array(audio.get_array_of_samples())\n",
    "        sample_rate = audio.frame_rate\n",
    "\n",
    "        # Обчислення простих характеристик\n",
    "        mean = np.mean(samples)\n",
    "        std_dev = np.std(samples)\n",
    "        features = np.array([mean, std_dev])\n",
    "\n",
    "        return features\n",
    "    except Exception as e:\n",
    "        print(f\"Помилка зчитування {file_path}: {e}\")\n",
    "        return None"
   ],
   "id": "43a68b16d5421d0a"
  },
  {
   "metadata": {},
   "cell_type": "code",
   "outputs": [],
   "execution_count": null,
   "source": [
    "# # === 3. Завантаження та підготовка даних ===\n",
    "# def load_data(dataset_path):\n",
    "#     features, labels = [], []\n",
    "#     for genre in os.listdir(dataset_path):\n",
    "#         genre_path = os.path.join(dataset_path, genre)\n",
    "#         if os.path.isdir(genre_path):\n",
    "#             for file in os.listdir(genre_path):\n",
    "#                 file_path = os.path.join(genre_path, file)\n",
    "#                 data = extract_features(file_path)\n",
    "#                 if data is not None:\n",
    "#                     features.append(data)\n",
    "#                     labels.append(genre)\n",
    "#     return np.array(features), np.array(labels)\n",
    "#\n",
    "# # Завантажуємо дані\n",
    "# print(\"Завантаження даних...\")\n",
    "# features, labels = load_data(DATASET_PATH)\n",
    "#\n",
    "# # Перетворення міток у числовий формат\n",
    "# label_encoder = LabelEncoder()\n",
    "# labels_encoded = label_encoder.fit_transform(labels)\n",
    "#\n",
    "# # Розбиваємо на тренувальний і тестовий набір\n",
    "# def train_test_split_data(features, labels_encoded):\n",
    "#     return train_test_split(features, labels_encoded, test_size=0.2, random_state=42)\n",
    "#\n",
    "# X_train, X_test, y_train, y_test = train_test_split_data(features, labels_encoded)"
   ],
   "id": "99aa4f408c0126e4"
  },
  {
   "metadata": {},
   "cell_type": "code",
   "outputs": [],
   "execution_count": null,
   "source": [
    "# # === 4. Побудова моделі ===\n",
    "# def build_model(input_shape, num_classes):\n",
    "#     model = tf.keras.Sequential([\n",
    "#         tf.keras.layers.Input(shape=(input_shape,)),  # Явно задаємо вхідну форму\n",
    "#         tf.keras.layers.Dense(256, activation=\"relu\"),\n",
    "#         # tf.keras.layers.Dropout(0.3),\n",
    "#         tf.keras.layers.Dense(128, activation=\"relu\"),\n",
    "#         tf.keras.layers.Dense(64, activation=\"relu\"),\n",
    "#         tf.keras.layers.Dense(32, activation=\"relu\"),\n",
    "#         # tf.keras.layers.Dropout(0.3),\n",
    "#         tf.keras.layers.Dense(num_classes, activation=\"softmax\")\n",
    "#     ])\n",
    "#     model.compile(optimizer=\"adam\",\n",
    "#                   loss=\"sparse_categorical_crossentropy\",\n",
    "#                   metrics=[\"accuracy\"])\n",
    "#     return model\n",
    "#\n",
    "# # Визначення моделі\n",
    "# input_shape = X_train.shape[1]\n",
    "# num_classes = len(np.unique(labels_encoded))\n",
    "# model = build_model(input_shape, num_classes)"
   ],
   "id": "1c2131036dca39be"
  },
  {
   "metadata": {},
   "cell_type": "code",
   "outputs": [],
   "execution_count": null,
   "source": [
    "# # === 5. Навчання моделі ===\n",
    "# def train_model(model, X_train, y_train, X_test, y_test, epochs=30, batch_size=32):\n",
    "#     history = model.fit(\n",
    "#         X_train, y_train,\n",
    "#         validation_data=(X_test, y_test),\n",
    "#         epochs=epochs,\n",
    "#         batch_size=batch_size,\n",
    "#         verbose=1\n",
    "#     )\n",
    "#     return history\n",
    "#\n",
    "# print(\"Навчання моделі...\")\n",
    "# history = train_model(model, X_train, y_train, X_test, y_test)"
   ],
   "id": "d415aba9d338f051"
  },
  {
   "metadata": {},
   "cell_type": "code",
   "outputs": [],
   "execution_count": null,
   "source": [
    "# # === 6. Оцінка моделі ===\n",
    "# def evaluate_model(model, X_test, y_test):\n",
    "#     test_loss, test_accuracy = model.evaluate(X_test, y_test, verbose=1)\n",
    "#     print(f\"Точність на тестових даних: {test_accuracy * 100:.2f}%\")\n",
    "#     return test_accuracy\n",
    "#\n",
    "# evaluate_model(model, X_test, y_test)"
   ],
   "id": "6b20f9becf1024ec"
  },
  {
   "metadata": {},
   "cell_type": "code",
   "outputs": [],
   "execution_count": null,
   "source": [
    "# # === 7. Збереження моделі ===\n",
    "# def save_model(model, encoder, model_path=\"music_genre_model.keras\", encoder_path=\"label_encoder.npy\"):\n",
    "#     model.save(model_path)\n",
    "#     np.save(encoder_path, encoder.classes_)\n",
    "#     print(f\"Модель збережено у {model_path}, енкодер у {encoder_path}\")\n",
    "#\n",
    "# save_model(model, label_encoder)"
   ],
   "id": "c3c36ec1c6869080"
  },
  {
   "metadata": {},
   "cell_type": "code",
   "outputs": [],
   "execution_count": null,
   "source": [
    "# # === 8. Завантаження моделі для прогнозування ===\n",
    "# def predict_genre(file_path, model_path=\"music_genre_model.keras\", encoder_path=\"label_encoder.npy\"):\n",
    "#     model = tf.keras.models.load_model(model_path)\n",
    "#     encoder_classes = np.load(encoder_path, allow_pickle=True)\n",
    "#     encoder = LabelEncoder()\n",
    "#     encoder.classes_ = encoder_classes\n",
    "#\n",
    "#     features = extract_features(file_path)\n",
    "#     if features is not None:\n",
    "#         features = np.expand_dims(features, axis=0)\n",
    "#         prediction = model.predict(features)\n",
    "#         genre = encoder.inverse_transform([np.argmax(prediction)])\n",
    "#         return genre[0]\n",
    "#     else:\n",
    "#         return \"Не вдалося обробити файл.\""
   ],
   "id": "a5dd74fced437603"
  },
  {
   "metadata": {},
   "cell_type": "code",
   "outputs": [],
   "execution_count": null,
   "source": [
    "# # Приклад використання:\n",
    "# print(predict_genre(\"./dataset/genres_original/jazz/jazz.00002.wav\"))"
   ],
   "id": "920f00c7aa0f0095"
  }
 ],
 "metadata": {
  "kernelspec": {
   "display_name": "Python 3",
   "language": "python",
   "name": "python3"
  },
  "language_info": {
   "codemirror_mode": {
    "name": "ipython",
    "version": 2
   },
   "file_extension": ".py",
   "mimetype": "text/x-python",
   "name": "python",
   "nbconvert_exporter": "python",
   "pygments_lexer": "ipython2",
   "version": "2.7.6"
  }
 },
 "nbformat": 4,
 "nbformat_minor": 5
}
